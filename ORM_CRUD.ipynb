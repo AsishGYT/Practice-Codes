{
  "nbformat": 4,
  "nbformat_minor": 0,
  "metadata": {
    "colab": {
      "name": "ORM-CRUD.ipynb",
      "provenance": [],
      "authorship_tag": "ABX9TyNve+OhO3dZG0U0ypsVwNn3",
      "include_colab_link": true
    },
    "kernelspec": {
      "name": "python3",
      "display_name": "Python 3"
    },
    "language_info": {
      "name": "python"
    }
  },
  "cells": [
    {
      "cell_type": "markdown",
      "metadata": {
        "id": "view-in-github",
        "colab_type": "text"
      },
      "source": [
        "<a href=\"https://colab.research.google.com/github/AsishGYT/Practice-Codes/blob/main/ORM_CRUD.ipynb\" target=\"_parent\"><img src=\"https://colab.research.google.com/assets/colab-badge.svg\" alt=\"Open In Colab\"/></a>"
      ]
    },
    {
      "cell_type": "code",
      "execution_count": 2,
      "metadata": {
        "id": "NJr8T1_-lKAI"
      },
      "outputs": [],
      "source": [
        "#CRUD > CRED"
      ]
    },
    {
      "cell_type": "code",
      "source": [
        "!pip install sqlalchemy\n",
        "import sqlalchemy as db"
      ],
      "metadata": {
        "id": "FpRZhHzBlRjs"
      },
      "execution_count": null,
      "outputs": []
    },
    {
      "cell_type": "code",
      "source": [
        "#creating table"
      ],
      "metadata": {
        "id": "mxP2PUyPlabg"
      },
      "execution_count": 5,
      "outputs": []
    },
    {
      "cell_type": "code",
      "source": [
        "\n",
        "from sqlalchemy import create_engine, MetaData, Table, Column, Integer, String\n",
        "engine = create_engine('sqlite:///college.db', echo = True)\n",
        "meta = MetaData()"
      ],
      "metadata": {
        "id": "B83V3PpkloRU"
      },
      "execution_count": 9,
      "outputs": []
    },
    {
      "cell_type": "code",
      "source": [
        "students = Table(\n",
        "   'students', meta, \n",
        "   Column('id', Integer, primary_key = True), \n",
        "   Column('name', String), \n",
        "   Column('lastname', String),\n",
        ")\n",
        "meta.create_all(engine)\n",
        "print(\"these are columns in our table %s\" %(students.columns.keys()))"
      ],
      "metadata": {
        "colab": {
          "base_uri": "https://localhost:8080/"
        },
        "id": "On_1I_l9lotj",
        "outputId": "d2ff0c7d-6644-410e-f825-762ec41670db"
      },
      "execution_count": 10,
      "outputs": [
        {
          "output_type": "stream",
          "name": "stdout",
          "text": [
            "2022-04-06 11:18:32,483 INFO sqlalchemy.engine.Engine BEGIN (implicit)\n",
            "2022-04-06 11:18:32,486 INFO sqlalchemy.engine.Engine PRAGMA main.table_info(\"students\")\n",
            "2022-04-06 11:18:32,489 INFO sqlalchemy.engine.Engine [raw sql] ()\n",
            "2022-04-06 11:18:32,492 INFO sqlalchemy.engine.Engine COMMIT\n",
            "these are columns in our table ['id', 'name', 'lastname']\n"
          ]
        }
      ]
    },
    {
      "cell_type": "code",
      "source": [
        "#insert data into table"
      ],
      "metadata": {
        "id": "D7Oy0Bu4lowM"
      },
      "execution_count": 11,
      "outputs": []
    },
    {
      "cell_type": "code",
      "source": [
        "from sqlalchemy import create_engine, MetaData, Table, Column, Integer, String\n",
        "engine = create_engine('sqlite:///college.db', echo = True)\n",
        "meta = MetaData()\n",
        "\n",
        "students = Table(\n",
        "   'students', meta, \n",
        "   Column('id', Integer, primary_key = True), \n",
        "   Column('name', String), \n",
        "   Column('lastname', String), \n",
        ")\n",
        "\n",
        "ins = students.insert()\n",
        "ins = students.insert().values(name = 'MAX', lastname = 'VERSTAPPEN')\n",
        "conn = engine.connect()\n",
        "result = conn.execute(ins)"
      ],
      "metadata": {
        "colab": {
          "base_uri": "https://localhost:8080/"
        },
        "id": "1C65BpUDloy3",
        "outputId": "84883056-b75d-4bab-ba59-95b4722c1bcf"
      },
      "execution_count": 15,
      "outputs": [
        {
          "output_type": "stream",
          "name": "stdout",
          "text": [
            "2022-04-06 11:20:24,272 INFO sqlalchemy.engine.Engine INSERT INTO students (name, lastname) VALUES (?, ?)\n",
            "2022-04-06 11:20:24,277 INFO sqlalchemy.engine.Engine [generated in 0.00475s] ('MAX', 'VERSTAPPEN')\n",
            "2022-04-06 11:20:24,282 INFO sqlalchemy.engine.Engine COMMIT\n"
          ]
        }
      ]
    },
    {
      "cell_type": "code",
      "source": [
        "conn.execute(students.insert(), [\n",
        "   {'name':'ASISH', 'lastname' : 'S RAM'},\n",
        "   {'name':'LEWIS','lastname' : 'HAMILTON'},\n",
        "   {'name':'CHARLES','lastname' : 'LECLERC'},\n",
        "   {'name':'MICHAEL','lastname' : 'SCHUMACHER'},\n",
        "])"
      ],
      "metadata": {
        "colab": {
          "base_uri": "https://localhost:8080/"
        },
        "id": "XguEWYAZlo2P",
        "outputId": "869cf120-19db-45d2-d58e-a40b957fe066"
      },
      "execution_count": 16,
      "outputs": [
        {
          "output_type": "stream",
          "name": "stdout",
          "text": [
            "2022-04-06 11:21:44,253 INFO sqlalchemy.engine.Engine INSERT INTO students (name, lastname) VALUES (?, ?)\n",
            "2022-04-06 11:21:44,259 INFO sqlalchemy.engine.Engine [generated in 0.00551s] (('ASISH', 'S RAM'), ('LEWIS', 'HAMILTON'), ('CHARLES', 'LECLERC'), ('MICHAEL', 'SCHUMACHER'))\n",
            "2022-04-06 11:21:44,261 INFO sqlalchemy.engine.Engine COMMIT\n"
          ]
        },
        {
          "output_type": "execute_result",
          "data": {
            "text/plain": [
              "<sqlalchemy.engine.cursor.LegacyCursorResult at 0x7fe70c213550>"
            ]
          },
          "metadata": {},
          "execution_count": 16
        }
      ]
    },
    {
      "cell_type": "code",
      "source": [
        "#DELETE DATA"
      ],
      "metadata": {
        "id": "Z8uSmFdBlo48"
      },
      "execution_count": 17,
      "outputs": []
    },
    {
      "cell_type": "code",
      "source": [
        "from sqlalchemy.sql.expression import update\n",
        "\n",
        "stmt = students.delete().where(students.c.name == 'CHARLES')\n",
        "conn.execute(stmt)\n",
        "s = students.select()\n",
        "conn.execute(s).fetchall()"
      ],
      "metadata": {
        "colab": {
          "base_uri": "https://localhost:8080/"
        },
        "id": "S4qsqIgnlo-o",
        "outputId": "386aa2bd-5492-4258-f994-7d46ee5ade0f"
      },
      "execution_count": 19,
      "outputs": [
        {
          "output_type": "stream",
          "name": "stdout",
          "text": [
            "2022-04-06 11:23:13,623 INFO sqlalchemy.engine.Engine DELETE FROM students WHERE students.name = ?\n",
            "2022-04-06 11:23:13,627 INFO sqlalchemy.engine.Engine [generated in 0.00453s] ('CHARLES',)\n",
            "2022-04-06 11:23:13,633 INFO sqlalchemy.engine.Engine COMMIT\n",
            "2022-04-06 11:23:13,647 INFO sqlalchemy.engine.Engine SELECT students.id, students.name, students.lastname \n",
            "FROM students\n",
            "2022-04-06 11:23:13,649 INFO sqlalchemy.engine.Engine [generated in 0.00156s] ()\n"
          ]
        },
        {
          "output_type": "execute_result",
          "data": {
            "text/plain": [
              "[(1, 'SEBASTIAN', 'VETTEL'),\n",
              " (2, 'SEBASTIAN', 'VETTEL'),\n",
              " (3, 'SEBASTIAN', 'VETTEL'),\n",
              " (4, 'MAX', 'VERSTAPPEN'),\n",
              " (5, 'ASISH', 'S RAM'),\n",
              " (6, 'LEWIS', 'HAMILTON'),\n",
              " (8, 'MICHAEL', 'SCHUMACHER')]"
            ]
          },
          "metadata": {},
          "execution_count": 19
        }
      ]
    },
    {
      "cell_type": "code",
      "source": [
        "#UPDATE DATA"
      ],
      "metadata": {
        "id": "ZFrdyAXvnK3a"
      },
      "execution_count": 20,
      "outputs": []
    },
    {
      "cell_type": "code",
      "source": [
        "conn = engine.connect()\n",
        "stmt=students.update().where(students.c.name=='LEWIS').values(name='SIR LEWIS')\n",
        "conn.execute(stmt)\n",
        "s = students.select()\n",
        "conn.execute(s).fetchall()"
      ],
      "metadata": {
        "colab": {
          "base_uri": "https://localhost:8080/"
        },
        "id": "ssPTF_7gnZSt",
        "outputId": "c37861db-416d-408c-cb4a-6747091709f2"
      },
      "execution_count": 21,
      "outputs": [
        {
          "output_type": "stream",
          "name": "stdout",
          "text": [
            "2022-04-06 11:24:20,316 INFO sqlalchemy.engine.Engine UPDATE students SET name=? WHERE students.name = ?\n",
            "2022-04-06 11:24:20,317 INFO sqlalchemy.engine.Engine [generated in 0.00160s] ('SIR LEWIS', 'LEWIS')\n",
            "2022-04-06 11:24:20,322 INFO sqlalchemy.engine.Engine COMMIT\n",
            "2022-04-06 11:24:20,334 INFO sqlalchemy.engine.Engine SELECT students.id, students.name, students.lastname \n",
            "FROM students\n",
            "2022-04-06 11:24:20,336 INFO sqlalchemy.engine.Engine [cached since 66.69s ago] ()\n"
          ]
        },
        {
          "output_type": "execute_result",
          "data": {
            "text/plain": [
              "[(1, 'SEBASTIAN', 'VETTEL'),\n",
              " (2, 'SEBASTIAN', 'VETTEL'),\n",
              " (3, 'SEBASTIAN', 'VETTEL'),\n",
              " (4, 'MAX', 'VERSTAPPEN'),\n",
              " (5, 'ASISH', 'S RAM'),\n",
              " (6, 'SIR LEWIS', 'HAMILTON'),\n",
              " (8, 'MICHAEL', 'SCHUMACHER')]"
            ]
          },
          "metadata": {},
          "execution_count": 21
        }
      ]
    },
    {
      "cell_type": "code",
      "source": [
        "#READ DATA"
      ],
      "metadata": {
        "id": "OtNvQZhjnkco"
      },
      "execution_count": 22,
      "outputs": []
    },
    {
      "cell_type": "code",
      "source": [
        "s = students.select().where(students.c.name==\"ASISH\")\n",
        "result = conn.execute(s)\n",
        "for row in result:\n",
        "   print (row)"
      ],
      "metadata": {
        "colab": {
          "base_uri": "https://localhost:8080/"
        },
        "id": "ULYzYpNYnqm2",
        "outputId": "44be85d1-9edb-4e7c-abcd-360aeadc33b0"
      },
      "execution_count": 23,
      "outputs": [
        {
          "output_type": "stream",
          "name": "stdout",
          "text": [
            "2022-04-06 11:25:00,626 INFO sqlalchemy.engine.Engine SELECT students.id, students.name, students.lastname \n",
            "FROM students \n",
            "WHERE students.name = ?\n",
            "2022-04-06 11:25:00,636 INFO sqlalchemy.engine.Engine [generated in 0.01020s] ('ASISH',)\n",
            "(5, 'ASISH', 'S RAM')\n"
          ]
        }
      ]
    },
    {
      "cell_type": "code",
      "source": [
        "s = students.select().where(students.c.id < 5)\n",
        "result = conn.execute(s)\n",
        "for row in result:\n",
        "   print (row)"
      ],
      "metadata": {
        "colab": {
          "base_uri": "https://localhost:8080/"
        },
        "id": "8b8w1TSlnuNu",
        "outputId": "eb2f1d21-dcb1-41f6-b1be-b885e4b7d58c"
      },
      "execution_count": 24,
      "outputs": [
        {
          "output_type": "stream",
          "name": "stdout",
          "text": [
            "2022-04-06 11:25:48,352 INFO sqlalchemy.engine.Engine SELECT students.id, students.name, students.lastname \n",
            "FROM students \n",
            "WHERE students.id < ?\n",
            "2022-04-06 11:25:48,361 INFO sqlalchemy.engine.Engine [generated in 0.00850s] (5,)\n",
            "(1, 'SEBASTIAN', 'VETTEL')\n",
            "(2, 'SEBASTIAN', 'VETTEL')\n",
            "(3, 'SEBASTIAN', 'VETTEL')\n",
            "(4, 'MAX', 'VERSTAPPEN')\n"
          ]
        }
      ]
    },
    {
      "cell_type": "code",
      "source": [
        ""
      ],
      "metadata": {
        "id": "aY0JDGe9n53j"
      },
      "execution_count": null,
      "outputs": []
    }
  ]
}